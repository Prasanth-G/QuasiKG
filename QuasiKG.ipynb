{
  "nbformat": 4,
  "nbformat_minor": 0,
  "metadata": {
    "colab": {
      "name": "QuasiKG.ipynb",
      "provenance": [],
      "collapsed_sections": [],
      "include_colab_link": true
    },
    "kernelspec": {
      "name": "python3",
      "display_name": "Python 3"
    }
  },
  "cells": [
    {
      "cell_type": "markdown",
      "metadata": {
        "id": "view-in-github",
        "colab_type": "text"
      },
      "source": [
        "<a href=\"https://colab.research.google.com/github/Prasanth-G/QuasiKG/blob/master/QuasiKG.ipynb\" target=\"_parent\"><img src=\"https://colab.research.google.com/assets/colab-badge.svg\" alt=\"Open In Colab\"/></a>"
      ]
    },
    {
      "cell_type": "markdown",
      "metadata": {
        "id": "g7Rdpis4uoXW",
        "colab_type": "text"
      },
      "source": [
        "# Get Results for the Query"
      ]
    },
    {
      "cell_type": "code",
      "metadata": {
        "id": "UYsP_v78uyWU",
        "colab_type": "code",
        "colab": {}
      },
      "source": [
        "from bs4 import BeautifulSoup\n",
        "import requests\n",
        "import os\n",
        "\n",
        "query = \"footballers of African descent who played in the FIFA 2018 final and the Euro 2016 final?\"\n",
        "corpus_folder = \"corpus\"\n",
        "if not os.path.exists(corpus_folder):\n",
        "  os.makedirs(corpus_folder)\n",
        "  \n",
        "# query google and save all those top 'K' results\n",
        "# eg:\n",
        "results = [\n",
        "    \"https://en.wikipedia.org/wiki/Michy_Batshuayi\",\n",
        "    \"https://en.wikipedia.org/wiki/Marcus_Rashford\",\n",
        "    \"https://www.theguardian.com/football/ng-interactive/2018/jun/05/world-cup-2018-complete-guide-players-ratings-goals-caps\",\n",
        "    \"https://bleacherreport.com/articles/2785862-why-france-are-carrying-africas-hopes-in-the-world-cup-final\",\n",
        "    \"https://www.indiatoday.in/sports/fifa-world-cup-2018/story/world-cup-2018-final-french-players-proud-to-represent-africa-1286287-2018-07-15\",\n",
        "    \"http://www.espn.com/espn/feature/story/_/id/23402874/world-cup-rank-espn-fc\",\n",
        "    \"https://www.fifa.com/fifa-world-ranking/\",\n",
        "    \"https://www.vox.com/2018/6/12/17356780/world-cup-2018-russia-teams-schedule-tickets\",\n",
        "    \"https://www.sportskeeda.com/slideshow/10-active-footballers-who-changed-nationality-played-international-football\"\n",
        "    \"https://www.quora.com/How-many-Muslim-players-does-the-French-national-football-team-have\"]\n",
        "\n",
        "for index, result in enumerate(results):\n",
        "  filepath = os.path.join(corpus_folder, 'file_' + str(index) + '.txt')\n",
        "  with open(filepath, 'w+') as file:\n",
        "    resp = requests.get(result)\n",
        "    soup = BeautifulSoup(resp.text, 'html.parser')\n",
        "    for ptag in soup.find_all('p'):\n",
        "      para = ptag.get_text().strip()\n",
        "      if para:\n",
        "        file.write(para)\n",
        "        file.write('\\n')\n"
      ],
      "execution_count": 0,
      "outputs": []
    }
  ]
}